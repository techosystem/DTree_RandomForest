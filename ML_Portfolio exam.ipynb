{
 "cells": [
  {
   "cell_type": "markdown",
   "id": "c5559644",
   "metadata": {},
   "source": [
    "### Performance evaluation of Decison Tree and Random Forest algorithm using Online Shoppers Purchasing Intention Dataset\n",
    "\n",
    "#### This is a school project. The dataset was downloaded from UCI Repository, https://archive.ics.uci.edu/ml/datasets/Online+Shoppers+Purchasing+Intention+Dataset"
   ]
  },
  {
   "cell_type": "markdown",
   "id": "6bd312b0",
   "metadata": {},
   "source": [
    "### Exercise 1"
   ]
  },
  {
   "cell_type": "markdown",
   "id": "6a1f35af",
   "metadata": {},
   "source": [
    "##### Ex. 1.1: Describe the relation between Random Forests and Decision Trees (for classification).\n",
    "\n",
    "A Decision tree is built on an entire dataset, using all the features of interest, \n",
    "whereas a Random forest randomly selects observations and specific features to \n",
    "build multiple decision trees from and then select a class recieving the majority votes.\n",
    "<p>A decision tree combines some decisions, whereas a random forest combines several decision trees.</p>"
   ]
  },
  {
   "cell_type": "markdown",
   "id": "5e4aba6a",
   "metadata": {},
   "source": [
    "##### Ex 1.2: Compare the Random Forest and the Decision Tree classifier in sklearn by discussing the parameters n_estimators, criterion, and max_depth. Explain what the parameters control and why they are applicable to both algorithms or just the one.\n",
    "    \n",
    " <pre>                 <b>Random Forest     Decison Tree</b></pre>\n",
    "\n",
    "<pre> n_estimators      Yes               No \n",
    "\n",
    " criterion         Yes               Yes\n",
    "\n",
    " max_depth         Yes               Yes </pre>\n",
    "\n",
    "\n",
    "__n_estimators:__ This is the number of trees in the forest. Default is 100\n",
    "\n",
    "__criterion:__ This is function used to measure the quality of the split. Default is 'gini' for Gini Impurities\n",
    "\n",
    "__max_depth:__ This is the maximum depth of the tree."
   ]
  },
  {
   "cell_type": "markdown",
   "id": "332abf32",
   "metadata": {},
   "source": [
    "##### Ex. 1.3: Compare the two algorithms with respect to their application: Which are immediate advantages and disadvantages of Random Forest over Decision Trees?\n",
    "\n",
    "#### Decison Tree\n",
    "Advantage: Fast and easy to interpret \n",
    "\n",
    "Disadvantages: It can lead to overfitting on large dataset. Again, it may not give predictive accuracy \n",
    "\n",
    "#### Random Forest\n",
    "Advantage: It uses averaging to improve predictive accuracy and reduce overfitting even on large datasets\n",
    "\n",
    "Disadvantage :Difficult to interpret"
   ]
  },
  {
   "cell_type": "markdown",
   "id": "8bb47ada",
   "metadata": {},
   "source": [
    "### Exercise 2 "
   ]
  },
  {
   "cell_type": "markdown",
   "id": "33253ce7",
   "metadata": {},
   "source": [
    "##### Ex. 2.1: How many numerical features can we use for predicting whether revenue is true or false.\n"
   ]
  },
  {
   "cell_type": "code",
   "execution_count": 101,
   "id": "20afd3a7",
   "metadata": {},
   "outputs": [],
   "source": [
    "import pandas as pd\n",
    "\n",
    "df_shoppers = pd.read_csv(\"online_shoppers_intention.csv\")"
   ]
  },
  {
   "cell_type": "code",
   "execution_count": 6,
   "id": "ea7be5e9",
   "metadata": {},
   "outputs": [
    {
     "data": {
      "text/html": [
       "<div>\n",
       "<style scoped>\n",
       "    .dataframe tbody tr th:only-of-type {\n",
       "        vertical-align: middle;\n",
       "    }\n",
       "\n",
       "    .dataframe tbody tr th {\n",
       "        vertical-align: top;\n",
       "    }\n",
       "\n",
       "    .dataframe thead th {\n",
       "        text-align: right;\n",
       "    }\n",
       "</style>\n",
       "<table border=\"1\" class=\"dataframe\">\n",
       "  <thead>\n",
       "    <tr style=\"text-align: right;\">\n",
       "      <th></th>\n",
       "      <th>Administrative</th>\n",
       "      <th>Administrative_Duration</th>\n",
       "      <th>Informational</th>\n",
       "      <th>Informational_Duration</th>\n",
       "      <th>ProductRelated</th>\n",
       "      <th>ProductRelated_Duration</th>\n",
       "      <th>BounceRates</th>\n",
       "      <th>ExitRates</th>\n",
       "      <th>PageValues</th>\n",
       "      <th>SpecialDay</th>\n",
       "      <th>Month</th>\n",
       "      <th>OperatingSystems</th>\n",
       "      <th>Browser</th>\n",
       "      <th>Region</th>\n",
       "      <th>TrafficType</th>\n",
       "      <th>VisitorType</th>\n",
       "      <th>Weekend</th>\n",
       "      <th>Revenue</th>\n",
       "    </tr>\n",
       "  </thead>\n",
       "  <tbody>\n",
       "    <tr>\n",
       "      <th>0</th>\n",
       "      <td>0</td>\n",
       "      <td>0.0</td>\n",
       "      <td>0</td>\n",
       "      <td>0.0</td>\n",
       "      <td>1</td>\n",
       "      <td>0.000000</td>\n",
       "      <td>0.20</td>\n",
       "      <td>0.20</td>\n",
       "      <td>0.0</td>\n",
       "      <td>0.0</td>\n",
       "      <td>Feb</td>\n",
       "      <td>1</td>\n",
       "      <td>1</td>\n",
       "      <td>1</td>\n",
       "      <td>1</td>\n",
       "      <td>Returning_Visitor</td>\n",
       "      <td>False</td>\n",
       "      <td>False</td>\n",
       "    </tr>\n",
       "    <tr>\n",
       "      <th>1</th>\n",
       "      <td>0</td>\n",
       "      <td>0.0</td>\n",
       "      <td>0</td>\n",
       "      <td>0.0</td>\n",
       "      <td>2</td>\n",
       "      <td>64.000000</td>\n",
       "      <td>0.00</td>\n",
       "      <td>0.10</td>\n",
       "      <td>0.0</td>\n",
       "      <td>0.0</td>\n",
       "      <td>Feb</td>\n",
       "      <td>2</td>\n",
       "      <td>2</td>\n",
       "      <td>1</td>\n",
       "      <td>2</td>\n",
       "      <td>Returning_Visitor</td>\n",
       "      <td>False</td>\n",
       "      <td>False</td>\n",
       "    </tr>\n",
       "    <tr>\n",
       "      <th>2</th>\n",
       "      <td>0</td>\n",
       "      <td>0.0</td>\n",
       "      <td>0</td>\n",
       "      <td>0.0</td>\n",
       "      <td>1</td>\n",
       "      <td>0.000000</td>\n",
       "      <td>0.20</td>\n",
       "      <td>0.20</td>\n",
       "      <td>0.0</td>\n",
       "      <td>0.0</td>\n",
       "      <td>Feb</td>\n",
       "      <td>4</td>\n",
       "      <td>1</td>\n",
       "      <td>9</td>\n",
       "      <td>3</td>\n",
       "      <td>Returning_Visitor</td>\n",
       "      <td>False</td>\n",
       "      <td>False</td>\n",
       "    </tr>\n",
       "    <tr>\n",
       "      <th>3</th>\n",
       "      <td>0</td>\n",
       "      <td>0.0</td>\n",
       "      <td>0</td>\n",
       "      <td>0.0</td>\n",
       "      <td>2</td>\n",
       "      <td>2.666667</td>\n",
       "      <td>0.05</td>\n",
       "      <td>0.14</td>\n",
       "      <td>0.0</td>\n",
       "      <td>0.0</td>\n",
       "      <td>Feb</td>\n",
       "      <td>3</td>\n",
       "      <td>2</td>\n",
       "      <td>2</td>\n",
       "      <td>4</td>\n",
       "      <td>Returning_Visitor</td>\n",
       "      <td>False</td>\n",
       "      <td>False</td>\n",
       "    </tr>\n",
       "    <tr>\n",
       "      <th>4</th>\n",
       "      <td>0</td>\n",
       "      <td>0.0</td>\n",
       "      <td>0</td>\n",
       "      <td>0.0</td>\n",
       "      <td>10</td>\n",
       "      <td>627.500000</td>\n",
       "      <td>0.02</td>\n",
       "      <td>0.05</td>\n",
       "      <td>0.0</td>\n",
       "      <td>0.0</td>\n",
       "      <td>Feb</td>\n",
       "      <td>3</td>\n",
       "      <td>3</td>\n",
       "      <td>1</td>\n",
       "      <td>4</td>\n",
       "      <td>Returning_Visitor</td>\n",
       "      <td>True</td>\n",
       "      <td>False</td>\n",
       "    </tr>\n",
       "  </tbody>\n",
       "</table>\n",
       "</div>"
      ],
      "text/plain": [
       "   Administrative  Administrative_Duration  Informational  \\\n",
       "0               0                      0.0              0   \n",
       "1               0                      0.0              0   \n",
       "2               0                      0.0              0   \n",
       "3               0                      0.0              0   \n",
       "4               0                      0.0              0   \n",
       "\n",
       "   Informational_Duration  ProductRelated  ProductRelated_Duration  \\\n",
       "0                     0.0               1                 0.000000   \n",
       "1                     0.0               2                64.000000   \n",
       "2                     0.0               1                 0.000000   \n",
       "3                     0.0               2                 2.666667   \n",
       "4                     0.0              10               627.500000   \n",
       "\n",
       "   BounceRates  ExitRates  PageValues  SpecialDay Month  OperatingSystems  \\\n",
       "0         0.20       0.20         0.0         0.0   Feb                 1   \n",
       "1         0.00       0.10         0.0         0.0   Feb                 2   \n",
       "2         0.20       0.20         0.0         0.0   Feb                 4   \n",
       "3         0.05       0.14         0.0         0.0   Feb                 3   \n",
       "4         0.02       0.05         0.0         0.0   Feb                 3   \n",
       "\n",
       "   Browser  Region  TrafficType        VisitorType  Weekend  Revenue  \n",
       "0        1       1            1  Returning_Visitor    False    False  \n",
       "1        2       1            2  Returning_Visitor    False    False  \n",
       "2        1       9            3  Returning_Visitor    False    False  \n",
       "3        2       2            4  Returning_Visitor    False    False  \n",
       "4        3       1            4  Returning_Visitor     True    False  "
      ]
     },
     "execution_count": 6,
     "metadata": {},
     "output_type": "execute_result"
    }
   ],
   "source": [
    "df_shoppers.head()"
   ]
  },
  {
   "cell_type": "markdown",
   "id": "9c60f7ef",
   "metadata": {},
   "source": [
    "10 numerical features can be used for predicting whether revenue is True or False. They includes:<br>\n",
    "Administrative,\tAdministrative_Duration,\tInformational,\tInformational_Duration,\tProductRelated,\tProductRelated_Duration,\tBounceRates,\tExitRates,\tPageValues and\tSpecialDay"
   ]
  },
  {
   "cell_type": "markdown",
   "id": "072a1f52",
   "metadata": {},
   "source": [
    "##### 2.2: Describe class distribution of the dataset\n",
    "\n",
    "Class distribution is the Revenue which checks whether the visit has been finalized with a transaction.\n",
    "The dataset has a class imbalance of 10422(False): 1908(True), with a ratio of 5.5:1\n"
   ]
  },
  {
   "cell_type": "code",
   "execution_count": 40,
   "id": "326e25a4",
   "metadata": {},
   "outputs": [
    {
     "data": {
      "text/plain": [
       "0    10422\n",
       "1     1908\n",
       "Name: Revenue, dtype: int64"
      ]
     },
     "execution_count": 40,
     "metadata": {},
     "output_type": "execute_result"
    }
   ],
   "source": [
    "df_shoppers[\"Revenue\"].value_counts()"
   ]
  },
  {
   "cell_type": "markdown",
   "id": "d2264ac9",
   "metadata": {},
   "source": [
    "### Exercise 3"
   ]
  },
  {
   "cell_type": "markdown",
   "id": "f07438eb",
   "metadata": {},
   "source": [
    "• Splitting the target attribute from the data, converting it into a form suitable for sklearn\n",
    "classifiers and preparing the numerical attributes as features,<br>\n",
    "• selecting 30% of the data as test data (choose random seed 42),<br>\n",
    "• scaling the data such that the features have similar average and standard distribution."
   ]
  },
  {
   "cell_type": "code",
   "execution_count": 155,
   "id": "c3d9c08b",
   "metadata": {},
   "outputs": [
    {
     "name": "stdout",
     "output_type": "stream",
     "text": [
      "<class 'pandas.core.frame.DataFrame'>\n",
      "RangeIndex: 12330 entries, 0 to 12329\n",
      "Data columns (total 18 columns):\n",
      " #   Column                   Non-Null Count  Dtype  \n",
      "---  ------                   --------------  -----  \n",
      " 0   Administrative           12330 non-null  int64  \n",
      " 1   Administrative_Duration  12330 non-null  float64\n",
      " 2   Informational            12330 non-null  int64  \n",
      " 3   Informational_Duration   12330 non-null  float64\n",
      " 4   ProductRelated           12330 non-null  int64  \n",
      " 5   ProductRelated_Duration  12330 non-null  float64\n",
      " 6   BounceRates              12330 non-null  float64\n",
      " 7   ExitRates                12330 non-null  float64\n",
      " 8   PageValues               12330 non-null  float64\n",
      " 9   SpecialDay               12330 non-null  float64\n",
      " 10  Month                    12330 non-null  object \n",
      " 11  OperatingSystems         12330 non-null  int64  \n",
      " 12  Browser                  12330 non-null  int64  \n",
      " 13  Region                   12330 non-null  int64  \n",
      " 14  TrafficType              12330 non-null  int64  \n",
      " 15  VisitorType              12330 non-null  object \n",
      " 16  Weekend                  12330 non-null  bool   \n",
      " 17  Revenue                  12330 non-null  bool   \n",
      "dtypes: bool(2), float64(7), int64(7), object(2)\n",
      "memory usage: 1.5+ MB\n"
     ]
    }
   ],
   "source": [
    "df_shoppers.info()"
   ]
  },
  {
   "cell_type": "markdown",
   "id": "c03660d7",
   "metadata": {},
   "source": [
    "#### 3.1: Convert the categorical variables to numerical variables"
   ]
  },
  {
   "cell_type": "code",
   "execution_count": 8,
   "id": "161d27b3",
   "metadata": {},
   "outputs": [],
   "source": [
    "df_shoppers.Revenue = df_shoppers.Revenue.astype('int')\n",
    "df_shoppers.Weekend = df_shoppers.Weekend.astype('int')"
   ]
  },
  {
   "cell_type": "code",
   "execution_count": 9,
   "id": "bdee6776",
   "metadata": {},
   "outputs": [
    {
     "data": {
      "text/html": [
       "<div>\n",
       "<style scoped>\n",
       "    .dataframe tbody tr th:only-of-type {\n",
       "        vertical-align: middle;\n",
       "    }\n",
       "\n",
       "    .dataframe tbody tr th {\n",
       "        vertical-align: top;\n",
       "    }\n",
       "\n",
       "    .dataframe thead th {\n",
       "        text-align: right;\n",
       "    }\n",
       "</style>\n",
       "<table border=\"1\" class=\"dataframe\">\n",
       "  <thead>\n",
       "    <tr style=\"text-align: right;\">\n",
       "      <th></th>\n",
       "      <th>Administrative</th>\n",
       "      <th>Administrative_Duration</th>\n",
       "      <th>Informational</th>\n",
       "      <th>Informational_Duration</th>\n",
       "      <th>ProductRelated</th>\n",
       "      <th>ProductRelated_Duration</th>\n",
       "      <th>BounceRates</th>\n",
       "      <th>ExitRates</th>\n",
       "      <th>PageValues</th>\n",
       "      <th>SpecialDay</th>\n",
       "      <th>Month</th>\n",
       "      <th>OperatingSystems</th>\n",
       "      <th>Browser</th>\n",
       "      <th>Region</th>\n",
       "      <th>TrafficType</th>\n",
       "      <th>VisitorType</th>\n",
       "      <th>Weekend</th>\n",
       "      <th>Revenue</th>\n",
       "    </tr>\n",
       "  </thead>\n",
       "  <tbody>\n",
       "    <tr>\n",
       "      <th>0</th>\n",
       "      <td>0</td>\n",
       "      <td>0.0</td>\n",
       "      <td>0</td>\n",
       "      <td>0.0</td>\n",
       "      <td>1</td>\n",
       "      <td>0.000000</td>\n",
       "      <td>0.20</td>\n",
       "      <td>0.20</td>\n",
       "      <td>0.0</td>\n",
       "      <td>0.0</td>\n",
       "      <td>Feb</td>\n",
       "      <td>1</td>\n",
       "      <td>1</td>\n",
       "      <td>1</td>\n",
       "      <td>1</td>\n",
       "      <td>Returning_Visitor</td>\n",
       "      <td>0</td>\n",
       "      <td>0</td>\n",
       "    </tr>\n",
       "    <tr>\n",
       "      <th>1</th>\n",
       "      <td>0</td>\n",
       "      <td>0.0</td>\n",
       "      <td>0</td>\n",
       "      <td>0.0</td>\n",
       "      <td>2</td>\n",
       "      <td>64.000000</td>\n",
       "      <td>0.00</td>\n",
       "      <td>0.10</td>\n",
       "      <td>0.0</td>\n",
       "      <td>0.0</td>\n",
       "      <td>Feb</td>\n",
       "      <td>2</td>\n",
       "      <td>2</td>\n",
       "      <td>1</td>\n",
       "      <td>2</td>\n",
       "      <td>Returning_Visitor</td>\n",
       "      <td>0</td>\n",
       "      <td>0</td>\n",
       "    </tr>\n",
       "    <tr>\n",
       "      <th>2</th>\n",
       "      <td>0</td>\n",
       "      <td>0.0</td>\n",
       "      <td>0</td>\n",
       "      <td>0.0</td>\n",
       "      <td>1</td>\n",
       "      <td>0.000000</td>\n",
       "      <td>0.20</td>\n",
       "      <td>0.20</td>\n",
       "      <td>0.0</td>\n",
       "      <td>0.0</td>\n",
       "      <td>Feb</td>\n",
       "      <td>4</td>\n",
       "      <td>1</td>\n",
       "      <td>9</td>\n",
       "      <td>3</td>\n",
       "      <td>Returning_Visitor</td>\n",
       "      <td>0</td>\n",
       "      <td>0</td>\n",
       "    </tr>\n",
       "    <tr>\n",
       "      <th>3</th>\n",
       "      <td>0</td>\n",
       "      <td>0.0</td>\n",
       "      <td>0</td>\n",
       "      <td>0.0</td>\n",
       "      <td>2</td>\n",
       "      <td>2.666667</td>\n",
       "      <td>0.05</td>\n",
       "      <td>0.14</td>\n",
       "      <td>0.0</td>\n",
       "      <td>0.0</td>\n",
       "      <td>Feb</td>\n",
       "      <td>3</td>\n",
       "      <td>2</td>\n",
       "      <td>2</td>\n",
       "      <td>4</td>\n",
       "      <td>Returning_Visitor</td>\n",
       "      <td>0</td>\n",
       "      <td>0</td>\n",
       "    </tr>\n",
       "    <tr>\n",
       "      <th>4</th>\n",
       "      <td>0</td>\n",
       "      <td>0.0</td>\n",
       "      <td>0</td>\n",
       "      <td>0.0</td>\n",
       "      <td>10</td>\n",
       "      <td>627.500000</td>\n",
       "      <td>0.02</td>\n",
       "      <td>0.05</td>\n",
       "      <td>0.0</td>\n",
       "      <td>0.0</td>\n",
       "      <td>Feb</td>\n",
       "      <td>3</td>\n",
       "      <td>3</td>\n",
       "      <td>1</td>\n",
       "      <td>4</td>\n",
       "      <td>Returning_Visitor</td>\n",
       "      <td>1</td>\n",
       "      <td>0</td>\n",
       "    </tr>\n",
       "  </tbody>\n",
       "</table>\n",
       "</div>"
      ],
      "text/plain": [
       "   Administrative  Administrative_Duration  Informational  \\\n",
       "0               0                      0.0              0   \n",
       "1               0                      0.0              0   \n",
       "2               0                      0.0              0   \n",
       "3               0                      0.0              0   \n",
       "4               0                      0.0              0   \n",
       "\n",
       "   Informational_Duration  ProductRelated  ProductRelated_Duration  \\\n",
       "0                     0.0               1                 0.000000   \n",
       "1                     0.0               2                64.000000   \n",
       "2                     0.0               1                 0.000000   \n",
       "3                     0.0               2                 2.666667   \n",
       "4                     0.0              10               627.500000   \n",
       "\n",
       "   BounceRates  ExitRates  PageValues  SpecialDay Month  OperatingSystems  \\\n",
       "0         0.20       0.20         0.0         0.0   Feb                 1   \n",
       "1         0.00       0.10         0.0         0.0   Feb                 2   \n",
       "2         0.20       0.20         0.0         0.0   Feb                 4   \n",
       "3         0.05       0.14         0.0         0.0   Feb                 3   \n",
       "4         0.02       0.05         0.0         0.0   Feb                 3   \n",
       "\n",
       "   Browser  Region  TrafficType        VisitorType  Weekend  Revenue  \n",
       "0        1       1            1  Returning_Visitor        0        0  \n",
       "1        2       1            2  Returning_Visitor        0        0  \n",
       "2        1       9            3  Returning_Visitor        0        0  \n",
       "3        2       2            4  Returning_Visitor        0        0  \n",
       "4        3       1            4  Returning_Visitor        1        0  "
      ]
     },
     "execution_count": 9,
     "metadata": {},
     "output_type": "execute_result"
    }
   ],
   "source": [
    "df_shoppers.head()"
   ]
  },
  {
   "cell_type": "code",
   "execution_count": 156,
   "id": "936c4350",
   "metadata": {},
   "outputs": [],
   "source": [
    "y = df_shoppers['Revenue'].values"
   ]
  },
  {
   "cell_type": "code",
   "execution_count": 159,
   "id": "12c259fd",
   "metadata": {},
   "outputs": [],
   "source": [
    "X = df_shoppers.iloc[:,:10].values\n"
   ]
  },
  {
   "cell_type": "markdown",
   "id": "61bec033",
   "metadata": {},
   "source": [
    "#### 3.2: selecting 30% of the test data(random state = 42)"
   ]
  },
  {
   "cell_type": "code",
   "execution_count": 161,
   "id": "96c84f1e",
   "metadata": {},
   "outputs": [],
   "source": [
    "from sklearn.model_selection import train_test_split\n",
    "\n",
    "\n",
    "X_train, X_test, y_train, y_test = train_test_split(X,y, test_size = 0.3, random_state = 42)\n"
   ]
  },
  {
   "cell_type": "code",
   "execution_count": 162,
   "id": "c07b2626",
   "metadata": {},
   "outputs": [
    {
     "data": {
      "text/plain": [
       "((8631, 10), (3699, 10), (8631,), (3699,))"
      ]
     },
     "execution_count": 162,
     "metadata": {},
     "output_type": "execute_result"
    }
   ],
   "source": [
    "X_train.shape, X_test.shape, y_train.shape, y_test.shape"
   ]
  },
  {
   "cell_type": "markdown",
   "id": "7c17fa16",
   "metadata": {},
   "source": [
    "#### 3.3:  Scaling the data such that the features have similar average and standard distribution"
   ]
  },
  {
   "cell_type": "code",
   "execution_count": 163,
   "id": "ddd93c03",
   "metadata": {},
   "outputs": [],
   "source": [
    "from sklearn.preprocessing import StandardScaler\n",
    "\n",
    "scaler = StandardScaler()\n",
    "X_train_scaled = scaler.fit_transform(X_train)\n",
    "X_test_scaled = scaler.fit_transform(X_test)\n"
   ]
  },
  {
   "cell_type": "markdown",
   "id": "e62cf4fe",
   "metadata": {},
   "source": [
    "### 4. \n",
    "### Use a combination of the classes GridSearchCV and RepeatedStratifiedKFold to setup a cross validation procedure for hyper parameter optimization.\n",
    "\n",
    "\n",
    "\n",
    "##### Ex 4.1: Create a cross validation setting in which the data is split into 10 folds, where all experiments are repeated 10 times, and where algorithms are evaluated using balanced accuracy.\n",
    "\n",
    "\n",
    "\n"
   ]
  },
  {
   "cell_type": "code",
   "execution_count": 65,
   "id": "c3d7e84c",
   "metadata": {},
   "outputs": [
    {
     "data": {
      "text/plain": [
       "GridSearchCV(cv=RepeatedStratifiedKFold(n_repeats=10, n_splits=10, random_state=42),\n",
       "             estimator=DecisionTreeClassifier(random_state=42),\n",
       "             param_grid={'criterion': ['gini', 'entropy'],\n",
       "                         'max_depth': [3, 5, 10]},\n",
       "             scoring='balanced_accuracy')"
      ]
     },
     "execution_count": 65,
     "metadata": {},
     "output_type": "execute_result"
    }
   ],
   "source": [
    "from sklearn.tree import DecisionTreeClassifier\n",
    "from sklearn.model_selection import GridSearchCV, RepeatedStratifiedKFold\n",
    "\n",
    "dt_param_grid = {'criterion':['gini','entropy'],'max_depth':[3,5,10]}\n",
    "cv = RepeatedStratifiedKFold(n_splits=10, n_repeats=10, random_state = 42)\n",
    "dt_grid = GridSearchCV(DecisionTreeClassifier(random_state =42), dt_param_grid, scoring = 'balanced_accuracy', cv=cv)\n",
    "dt_grid.fit(X_train, y_train)"
   ]
  },
  {
   "cell_type": "code",
   "execution_count": 66,
   "id": "9f601e7c",
   "metadata": {},
   "outputs": [
    {
     "data": {
      "text/plain": [
       "{'criterion': 'gini', 'max_depth': 3}"
      ]
     },
     "execution_count": 66,
     "metadata": {},
     "output_type": "execute_result"
    }
   ],
   "source": [
    "dt_grid.best_params_"
   ]
  },
  {
   "cell_type": "code",
   "execution_count": 67,
   "id": "aae5fe56",
   "metadata": {},
   "outputs": [
    {
     "data": {
      "text/plain": [
       "DecisionTreeClassifier(max_depth=3, random_state=42)"
      ]
     },
     "execution_count": 67,
     "metadata": {},
     "output_type": "execute_result"
    }
   ],
   "source": [
    "dt_grid.best_estimator_"
   ]
  },
  {
   "cell_type": "code",
   "execution_count": 31,
   "id": "d93db13b",
   "metadata": {},
   "outputs": [],
   "source": [
    "#dt_grid.cv_results_"
   ]
  },
  {
   "cell_type": "code",
   "execution_count": null,
   "id": "34569adc",
   "metadata": {},
   "outputs": [],
   "source": []
  },
  {
   "cell_type": "code",
   "execution_count": 41,
   "id": "5e8d22b0",
   "metadata": {},
   "outputs": [
    {
     "data": {
      "text/plain": [
       "0.8970331343075404"
      ]
     },
     "execution_count": 41,
     "metadata": {},
     "output_type": "execute_result"
    }
   ],
   "source": [
    "dt_grid.best_score_"
   ]
  },
  {
   "cell_type": "code",
   "execution_count": 25,
   "id": "84e0ae18",
   "metadata": {},
   "outputs": [],
   "source": [
    "#Randomforest estimator"
   ]
  },
  {
   "cell_type": "code",
   "execution_count": 18,
   "id": "c1744165",
   "metadata": {},
   "outputs": [
    {
     "name": "stdout",
     "output_type": "stream",
     "text": [
      "Fitting 100 folds for each of 36 candidates, totalling 3600 fits\n"
     ]
    },
    {
     "data": {
      "text/plain": [
       "GridSearchCV(cv=RepeatedStratifiedKFold(n_repeats=10, n_splits=10, random_state=1),\n",
       "             estimator=RandomForestClassifier(random_state=1),\n",
       "             param_grid={'criterion': ['gini', 'entropy'],\n",
       "                         'max_depth': [3, 5, 10],\n",
       "                         'max_features': ['auto', 'sqrt', 'log2'],\n",
       "                         'n_estimators': [10, 20]},\n",
       "             verbose=1)"
      ]
     },
     "execution_count": 18,
     "metadata": {},
     "output_type": "execute_result"
    }
   ],
   "source": [
    "from sklearn.ensemble import RandomForestClassifier\n",
    "\n",
    "rf_param_grid = {'n_estimators':[10,20], 'max_features':['auto', 'sqrt', 'log2'],\n",
    "             'criterion':['gini','entropy'],'max_depth':[3,5,10]}\n",
    "rf_grid = GridSearchCV(RandomForestClassifier(random_state =42),rf_param_grid, scoring = 'balanced_accuracy', cv=cv)\n",
    "rf_grid.fit(X_train, y_train)\n"
   ]
  },
  {
   "cell_type": "code",
   "execution_count": 19,
   "id": "e976d52a",
   "metadata": {},
   "outputs": [
    {
     "data": {
      "text/plain": [
       "{'criterion': 'entropy',\n",
       " 'max_depth': 5,\n",
       " 'max_features': 'auto',\n",
       " 'n_estimators': 20}"
      ]
     },
     "execution_count": 19,
     "metadata": {},
     "output_type": "execute_result"
    }
   ],
   "source": [
    "rf_grid.best_params_\n"
   ]
  },
  {
   "cell_type": "code",
   "execution_count": 21,
   "id": "03f603f1",
   "metadata": {
    "scrolled": true
   },
   "outputs": [
    {
     "data": {
      "text/plain": [
       "RandomForestClassifier(criterion='entropy', max_depth=5, n_estimators=20,\n",
       "                       random_state=1)"
      ]
     },
     "execution_count": 21,
     "metadata": {},
     "output_type": "execute_result"
    }
   ],
   "source": [
    "rf_grid.best_estimator_"
   ]
  },
  {
   "cell_type": "code",
   "execution_count": 43,
   "id": "b7213ffd",
   "metadata": {},
   "outputs": [
    {
     "data": {
      "text/plain": [
       "0.8984126888330976"
      ]
     },
     "execution_count": 43,
     "metadata": {},
     "output_type": "execute_result"
    }
   ],
   "source": [
    "rf_grid.best_score_"
   ]
  },
  {
   "cell_type": "code",
   "execution_count": 27,
   "id": "3ffd9ec1",
   "metadata": {},
   "outputs": [
    {
     "data": {
      "text/plain": [
       "DecisionTreeClassifier(random_state=1)"
      ]
     },
     "execution_count": 27,
     "metadata": {},
     "output_type": "execute_result"
    }
   ],
   "source": [
    "from sklearn.tree import DecisionTreeClassifier\n",
    "clf = DecisionTreeClassifier(criterion='gini', random_state=1)\n",
    "\n",
    "# Train the classifier\n",
    "clf.fit(X_train, y_train)"
   ]
  },
  {
   "cell_type": "code",
   "execution_count": 31,
   "id": "382827c0",
   "metadata": {},
   "outputs": [
    {
     "data": {
      "text/plain": [
       "RandomForestClassifier(max_depth=2, n_estimators=20, random_state=1)"
      ]
     },
     "execution_count": 31,
     "metadata": {},
     "output_type": "execute_result"
    }
   ],
   "source": [
    " from sklearn.ensemble import RandomForestClassifier\n",
    "\n",
    "clfr = RandomForestClassifier( n_estimators = 20, max_depth=2, random_state=1)\n",
    "clfr.fit(X_train, y_train)"
   ]
  },
  {
   "cell_type": "markdown",
   "id": "31e18277",
   "metadata": {},
   "source": [
    "#### Ex 4.2: Which dataset is used in the grid search cross validation (training data, test data, or full dataset)?"
   ]
  },
  {
   "cell_type": "markdown",
   "id": "858d90f0",
   "metadata": {},
   "source": [
    "Training data was used in grid search cross validation. Specifically, X_train and  y_train were used"
   ]
  },
  {
   "cell_type": "markdown",
   "id": "5e6eaa1e",
   "metadata": {},
   "source": [
    "#### Ex 4.3: Explain, what happens to that dataset during the grid search procedure!"
   ]
  },
  {
   "cell_type": "markdown",
   "id": "9abb1906",
   "metadata": {},
   "source": [
    "Grid-search is used to find the optimal hyperparameters of a model which results in the most accurate predictions.\n",
    "During the grid-search procedure, datasets are been transformed by reducing the number of false positives in order \n",
    "to find the optimal parameters that meet the expectation of algorithm. It can be slow and computational expensive."
   ]
  },
  {
   "cell_type": "markdown",
   "id": "674e45a3",
   "metadata": {},
   "source": [
    "####  Ex 4.4: What is the difference between using RepeatedStratifiedKFold and the default cross validation in GridSearchCV?"
   ]
  },
  {
   "cell_type": "markdown",
   "id": "caa9b1d3",
   "metadata": {},
   "source": [
    "For integer/None inputs, if the estimator is a classifier and y is either binary or multiclass, StratifiedKFold is used. \n",
    "In all other cases, KFold is used. \n",
    "These splitters are instantiated with shuffle=False so the splits will be the same across calls.\n",
    "RepeatedStratifiedKFold can be used to repeat Stratified K-Fold n times with different randomization in each repetition."
   ]
  },
  {
   "cell_type": "markdown",
   "id": "71f0a160",
   "metadata": {},
   "source": [
    "#### Ex 4.5: Explain the purpose that justifies repeating experiments on the same dataset and on different folds."
   ]
  },
  {
   "cell_type": "markdown",
   "id": "7ed4d3ee",
   "metadata": {},
   "source": [
    "A single run of the k-fold cross-validation procedure may result in a noisy estimate of model performance as \n",
    "different splits of the data may result in very different results.\n",
    "\n",
    "Repeated k-fold cross-validation provides a way to improve the estimated performance of a machine learning model by \n",
    "repeating the cross-validation procedure multiple times and reporting the mean result across all folds from all runs. \n",
    "This mean result is expected to be a more accurate estimate of the true unknown underlying mean performance of the \n",
    "model on the dataset, as calculated using the standard error."
   ]
  },
  {
   "cell_type": "markdown",
   "id": "e1c68893",
   "metadata": {},
   "source": [
    "### Exercise 5: Evaluation of Classifiers\n",
    "\n",
    "#### Use the above cross validation setup to optimize and compare tree based learners. Use\n",
    "\n",
    "#### Ex 5.1: Decision Trees with the Gini criterion and test parameters 2 through 14 for max_depth.\n"
   ]
  },
  {
   "cell_type": "code",
   "execution_count": 63,
   "id": "59a40e2a",
   "metadata": {},
   "outputs": [
    {
     "data": {
      "text/plain": [
       "GridSearchCV(cv=RepeatedStratifiedKFold(n_repeats=10, n_splits=10, random_state=42),\n",
       "             estimator=DecisionTreeClassifier(random_state=42),\n",
       "             param_grid={'criterion': ['gini'],\n",
       "                         'max_depth': [2, 3, 4, 5, 6, 7, 8, 9, 10, 11, 12, 13]},\n",
       "             scoring='balanced_accuracy')"
      ]
     },
     "execution_count": 63,
     "metadata": {},
     "output_type": "execute_result"
    }
   ],
   "source": [
    "\n",
    "dt_param_grid = {'criterion':['gini'],'max_depth':list(range(2,14))}\n",
    "cv = RepeatedStratifiedKFold(n_splits=10, n_repeats=10, random_state = 42)\n",
    "dt_grid = GridSearchCV(DecisionTreeClassifier(random_state =42), dt_param_grid, scoring = 'balanced_accuracy', cv=cv)\n",
    "dt_grid.fit(X_train, y_train)"
   ]
  },
  {
   "cell_type": "code",
   "execution_count": 64,
   "id": "d5dc5a03",
   "metadata": {},
   "outputs": [
    {
     "name": "stdout",
     "output_type": "stream",
     "text": [
      "Decision Tree Tuned Performance:\n",
      "--------------------------------\n",
      "Accuracy        :  0.8851040821843742\n",
      "F1 Score        :  0.5994344957587181\n",
      "Precision       :  0.654320987654321\n",
      "Recall          :  0.5530434782608695\n",
      "Confusion Matrix:\n",
      "  [[2956  168]\n",
      " [ 257  318]]\n"
     ]
    }
   ],
   "source": [
    "from sklearn.metrics import accuracy_score, f1_score, precision_score, recall_score, confusion_matrix\n",
    "\n",
    "dt_grid_pred = dt_grid.predict(X_test)\n",
    "\n",
    "print('Decision Tree Tuned Performance:')\n",
    "print('--------------------------------')\n",
    "print('Accuracy        : ', accuracy_score(y_test, dt_grid_pred))\n",
    "print('F1 Score        : ', f1_score(y_test, dt_grid_pred))\n",
    "print('Precision       : ', precision_score(y_test, dt_grid_pred))\n",
    "print('Recall          : ', recall_score(y_test, dt_grid_pred))\n",
    "print('Confusion Matrix:\\n ', confusion_matrix(y_test, dt_grid_pred))"
   ]
  },
  {
   "cell_type": "code",
   "execution_count": 51,
   "id": "6c1a6f6a",
   "metadata": {},
   "outputs": [
    {
     "data": {
      "text/plain": [
       "0.8981917755675722"
      ]
     },
     "execution_count": 51,
     "metadata": {},
     "output_type": "execute_result"
    }
   ],
   "source": [
    "dt_grid.best_score_"
   ]
  },
  {
   "cell_type": "markdown",
   "id": "23646880",
   "metadata": {},
   "source": [
    "#### Ex 5.2 Random Forests with 1, 10, or 100 trees and 2,3,5, or 10 for max_depth."
   ]
  },
  {
   "cell_type": "code",
   "execution_count": 52,
   "id": "ee6f89f8",
   "metadata": {},
   "outputs": [
    {
     "name": "stdout",
     "output_type": "stream",
     "text": [
      "Fitting 100 folds for each of 12 candidates, totalling 1200 fits\n"
     ]
    },
    {
     "data": {
      "text/plain": [
       "GridSearchCV(cv=RepeatedStratifiedKFold(n_repeats=10, n_splits=10, random_state=42),\n",
       "             estimator=RandomForestClassifier(random_state=1),\n",
       "             param_grid={'max_depth': [2, 3, 5, 10],\n",
       "                         'n_estimators': [1, 10, 100]},\n",
       "             verbose=1)"
      ]
     },
     "execution_count": 52,
     "metadata": {},
     "output_type": "execute_result"
    }
   ],
   "source": [
    "rf_param_grid = {'n_estimators':[1,10,100],\n",
    "             'max_depth':[2,3,5,10]}\n",
    "rf_grid = GridSearchCV(RandomForestClassifier(random_state =42),rf_param_grid, scoring = 'balanced_accuracy', cv=cv)\n",
    "rf_grid.fit(X_train, y_train)"
   ]
  },
  {
   "cell_type": "code",
   "execution_count": 61,
   "id": "7b212398",
   "metadata": {},
   "outputs": [
    {
     "name": "stdout",
     "output_type": "stream",
     "text": [
      "Random Forest Tuned Performance:\n",
      "--------------------------------\n",
      "Accuracy        :  0.8934847256015139\n",
      "F1 Score        :  0.5808510638297872\n",
      "Precision       :  0.7479452054794521\n",
      "Recall          :  0.4747826086956522\n",
      "Confusion Matrix:\n",
      "  [[3032   92]\n",
      " [ 302  273]]\n"
     ]
    }
   ],
   "source": [
    "rfm_grid_pred = rf_grid.predict(X_test)\n",
    "\n",
    "print('Random Forest Tuned Performance:')\n",
    "print('--------------------------------')\n",
    "print('Accuracy        : ', accuracy_score(y_test, rfm_grid_pred))\n",
    "print('F1 Score        : ', f1_score(y_test, rfm_grid_pred))\n",
    "print('Precision       : ', precision_score(y_test, rfm_grid_pred))\n",
    "print('Recall          : ', recall_score(y_test, rfm_grid_pred))\n",
    "print('Confusion Matrix:\\n ', confusion_matrix(y_test, rfm_grid_pred))"
   ]
  },
  {
   "cell_type": "code",
   "execution_count": 53,
   "id": "aacc161d",
   "metadata": {},
   "outputs": [
    {
     "data": {
      "text/plain": [
       "0.8998486518818933"
      ]
     },
     "execution_count": 53,
     "metadata": {},
     "output_type": "execute_result"
    }
   ],
   "source": [
    "rf_grid.best_score_\n"
   ]
  },
  {
   "cell_type": "code",
   "execution_count": 143,
   "id": "b9c8460c",
   "metadata": {},
   "outputs": [
    {
     "data": {
      "text/plain": [
       "{'max_depth': 10, 'n_estimators': 100}"
      ]
     },
     "execution_count": 143,
     "metadata": {},
     "output_type": "execute_result"
    }
   ],
   "source": [
    "rf_grid.best_params_"
   ]
  },
  {
   "cell_type": "markdown",
   "id": "427b2b7e",
   "metadata": {},
   "source": [
    "### Exercise 6. Oversampling\n",
    "\n",
    "#### Use oversampling to create a balanced training dataset. Look at the class imblearn.over_sampling.RandomOverSampler for that purpose.\n",
    "\n"
   ]
  },
  {
   "cell_type": "markdown",
   "id": "5a08df89",
   "metadata": {},
   "source": [
    "#### Ex. 6.1: What does the above class do?"
   ]
  },
  {
   "cell_type": "markdown",
   "id": "9c67a27f",
   "metadata": {},
   "source": [
    "Class to perform random over-sampling.\n",
    "\n",
    "Object to over-sample the minority class(es) by picking samples at random with replacement."
   ]
  },
  {
   "cell_type": "markdown",
   "id": "c71dcef0",
   "metadata": {},
   "source": [
    "#### Ex. 6.2: Why is oversampling only applied to the training dataset (not to the test data)?"
   ]
  },
  {
   "cell_type": "markdown",
   "id": "c32e489b",
   "metadata": {},
   "source": [
    " \n",
    "Random undersampling involves randomly selecting examples from the majority class and deleting them from the training dataset\n",
    "\n",
    "Oversampling is only done on training and not on the test data because test data should contain unseen samples \n",
    "so it would not overfit and give you better evaluation of training process."
   ]
  },
  {
   "cell_type": "markdown",
   "id": "5804c5f5",
   "metadata": {},
   "source": [
    "#### Ex.6.3: Optimize Random Forest with the same search grid as before, but trained on a balanced training dataset."
   ]
  },
  {
   "cell_type": "code",
   "execution_count": 130,
   "id": "9e5a8b1d",
   "metadata": {},
   "outputs": [
    {
     "data": {
      "text/plain": [
       "GridSearchCV(cv=RepeatedStratifiedKFold(n_repeats=10, n_splits=10, random_state=42),\n",
       "             estimator=RandomForestClassifier(random_state=42),\n",
       "             param_grid={'max_depth': [2, 3, 5, 10],\n",
       "                         'n_estimators': [1, 10, 100]},\n",
       "             scoring='balanced_accuracy')"
      ]
     },
     "execution_count": 130,
     "metadata": {},
     "output_type": "execute_result"
    }
   ],
   "source": [
    "from imblearn.over_sampling import RandomOverSampler \n",
    "\n",
    "ros = RandomOverSampler(random_state=42)\n",
    "rf_res_grid = GridSearchCV(RandomForestClassifier(random_state =42),rf_param_grid, scoring = 'balanced_accuracy', cv=cv)\n",
    "X_res, y_res = ros.fit_resample(X_train, y_train)\n",
    "rf_res_grid.fit(X_res, y_res)"
   ]
  },
  {
   "cell_type": "code",
   "execution_count": 131,
   "id": "fa03eb8c",
   "metadata": {},
   "outputs": [
    {
     "name": "stdout",
     "output_type": "stream",
     "text": [
      "Random Forest Tuned Performance:\n",
      "--------------------------------\n",
      "Accuracy        :  0.874831035414977\n",
      "F1 Score        :  0.6583025830258302\n",
      "Precision       :  0.5717948717948718\n",
      "Recall          :  0.7756521739130435\n",
      "Confusion Matrix:\n",
      "  [[2790  334]\n",
      " [ 129  446]]\n"
     ]
    }
   ],
   "source": [
    "rfm_res_pred = rf_res_grid.predict(X_test)\n",
    "\n",
    "print('Random Forest Tuned Performance:')\n",
    "print('--------------------------------')\n",
    "print('Accuracy        : ', accuracy_score(y_test, rfm_res_pred))\n",
    "print('F1 Score        : ', f1_score(y_test, rfm_res_pred))\n",
    "print('Precision       : ', precision_score(y_test, rfm_res_pred))\n",
    "print('Recall          : ', recall_score(y_test, rfm_res_pred))\n",
    "print('Confusion Matrix:\\n ', confusion_matrix(y_test, rfm_res_pred))"
   ]
  },
  {
   "cell_type": "markdown",
   "id": "c15529fd",
   "metadata": {},
   "source": [
    "### Exercise 7:  Interpretation\n",
    "\n",
    "##### Evaluate the resulting three algorithms of the three above cross validation experiments (Decision Tree and two versions of Random Forest).\n"
   ]
  },
  {
   "cell_type": "code",
   "execution_count": 107,
   "id": "d1a568ab",
   "metadata": {},
   "outputs": [],
   "source": [
    "from sklearn.metrics import classification_report\n",
    "dt_report = classification_report(y_test, dt_grid_pred, output_dict=True)"
   ]
  },
  {
   "cell_type": "markdown",
   "id": "fcc07501",
   "metadata": {},
   "source": [
    "#### Ex. 7. 1: Prepare a data frame in which the evaluation results of algorithms can be stored with columns for the algorithm, accuracy, balanced accuracy, confusion matrix and the best hyperparameters of the algorithm."
   ]
  },
  {
   "cell_type": "code",
   "execution_count": 165,
   "id": "6ec937d1",
   "metadata": {},
   "outputs": [
    {
     "data": {
      "text/html": [
       "<div>\n",
       "<style scoped>\n",
       "    .dataframe tbody tr th:only-of-type {\n",
       "        vertical-align: middle;\n",
       "    }\n",
       "\n",
       "    .dataframe tbody tr th {\n",
       "        vertical-align: top;\n",
       "    }\n",
       "\n",
       "    .dataframe thead th {\n",
       "        text-align: right;\n",
       "    }\n",
       "</style>\n",
       "<table border=\"1\" class=\"dataframe\">\n",
       "  <thead>\n",
       "    <tr style=\"text-align: right;\">\n",
       "      <th></th>\n",
       "      <th>classifiers</th>\n",
       "      <th>accuracy</th>\n",
       "      <th>balanced accuracy</th>\n",
       "      <th>confusion matrix</th>\n",
       "      <th>best_hyperparameters</th>\n",
       "    </tr>\n",
       "  </thead>\n",
       "  <tbody>\n",
       "  </tbody>\n",
       "</table>\n",
       "</div>"
      ],
      "text/plain": [
       "Empty DataFrame\n",
       "Columns: [classifiers, accuracy, balanced accuracy, confusion matrix, best_hyperparameters]\n",
       "Index: []"
      ]
     },
     "execution_count": 165,
     "metadata": {},
     "output_type": "execute_result"
    }
   ],
   "source": [
    "#creating a dataframe for evaluation metrics\n",
    "\n",
    "df_metrics = pd.DataFrame(columns =['classifiers', 'accuracy', 'balanced accuracy', 'confusion matrix', 'best_hyperparameters'])\n",
    "df_metrics"
   ]
  },
  {
   "cell_type": "markdown",
   "id": "5feae1e4",
   "metadata": {},
   "source": [
    "#### Ex. 7.2: On which dataset should the performance of algorithms (with already optimized hyper parameters) be compared (training data, test data, full data)?\n",
    "\n",
    "\n",
    "Ans: Test data"
   ]
  },
  {
   "cell_type": "markdown",
   "id": "ba76d457",
   "metadata": {},
   "source": [
    "#### Ex. 7.3: For each algorithm report the best choice of hyperparameters found using the above cross validations."
   ]
  },
  {
   "cell_type": "code",
   "execution_count": 124,
   "id": "7275bfd6",
   "metadata": {},
   "outputs": [
    {
     "data": {
      "text/plain": [
       "DecisionTreeClassifier(max_depth=3, random_state=42)"
      ]
     },
     "execution_count": 124,
     "metadata": {},
     "output_type": "execute_result"
    }
   ],
   "source": [
    "dt_grid.best_estimator_"
   ]
  },
  {
   "cell_type": "code",
   "execution_count": 132,
   "id": "f0b385d4",
   "metadata": {},
   "outputs": [
    {
     "data": {
      "text/plain": [
       "BalancedRandomForestClassifier(max_depth=10, random_state=1)"
      ]
     },
     "execution_count": 132,
     "metadata": {},
     "output_type": "execute_result"
    }
   ],
   "source": [
    "rf_grid.best_estimator_"
   ]
  },
  {
   "cell_type": "code",
   "execution_count": 134,
   "id": "31659f28",
   "metadata": {},
   "outputs": [
    {
     "data": {
      "text/plain": [
       "RandomForestClassifier(max_depth=10, random_state=42)"
      ]
     },
     "execution_count": 134,
     "metadata": {},
     "output_type": "execute_result"
    }
   ],
   "source": [
    "rf_res_grid.best_estimator_"
   ]
  },
  {
   "cell_type": "markdown",
   "id": "8f607aef",
   "metadata": {},
   "source": [
    "####  Ex. 7.4: Compare three classifiers regarding both accuracy and balanced accuracy. Recommend a setting for use in production."
   ]
  },
  {
   "cell_type": "code",
   "execution_count": 141,
   "id": "0e12ce9a",
   "metadata": {},
   "outputs": [
    {
     "name": "stdout",
     "output_type": "stream",
     "text": [
      "0.8851040821843742\n",
      "0.7496331347770417\n",
      "0.8934847256015139\n",
      "0.7226665924400156\n",
      "0.874831035414977\n",
      "0.8343689806825141\n"
     ]
    }
   ],
   "source": [
    "from sklearn.metrics import balanced_accuracy_score\n",
    "dt_acc=accuracy_score(y_test,dt_grid_pred)\n",
    "print(dt_acc)\n",
    "dt_bal_acc=balanced_accuracy_score(y_test,dt_grid_pred)\n",
    "print(dt_bal_acc)\n",
    "rf_acc=accuracy_score(y_test,rfm_grid_pred)\n",
    "print(rf_acc)\n",
    "rf_bal_acc=balanced_accuracy_score(y_test,rfm_grid_pred)\n",
    "print(rf_bal_acc)\n",
    "rf_res_acc=accuracy_score(y_test,rfm_res_pred)\n",
    "print(rf_res_acc)\n",
    "rf_res_bal_acc=balanced_accuracy_score(y_test,rfm_res_pred)\n",
    "print(rf_res_bal_acc)"
   ]
  },
  {
   "cell_type": "markdown",
   "id": "608ddc29",
   "metadata": {},
   "source": [
    "From the above performance score, we can say that Random Forest with accurcy score 0.8934847256015139 yields the best result.\n",
    "I recommend a Random Forest algorithm with n_estimator = 100 and max_depth = 10\n"
   ]
  }
 ],
 "metadata": {
  "kernelspec": {
   "display_name": "Python 3",
   "language": "python",
   "name": "python3"
  },
  "language_info": {
   "codemirror_mode": {
    "name": "ipython",
    "version": 3
   },
   "file_extension": ".py",
   "mimetype": "text/x-python",
   "name": "python",
   "nbconvert_exporter": "python",
   "pygments_lexer": "ipython3",
   "version": "3.8.8"
  }
 },
 "nbformat": 4,
 "nbformat_minor": 5
}
